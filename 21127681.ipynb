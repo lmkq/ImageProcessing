{
 "cells": [
  {
   "cell_type": "markdown",
   "metadata": {},
   "source": []
  },
  {
   "cell_type": "markdown",
   "metadata": {},
   "source": [
    "### Import thư viện <a class=\"anchor\" id=\"c14\"></a>"
   ]
  },
  {
   "cell_type": "code",
   "execution_count": 49,
   "metadata": {},
   "outputs": [],
   "source": [
    "import numpy as np\n",
    "from PIL import Image\n",
    "import matplotlib.pyplot as plt"
   ]
  },
  {
   "cell_type": "markdown",
   "metadata": {},
   "source": [
    "### Xử lí dữ liệu input <a class=\"anchor\" id=\"c14\"></a>"
   ]
  },
  {
   "cell_type": "code",
   "execution_count": 50,
   "metadata": {},
   "outputs": [],
   "source": [
    "def get_image(filename):\n",
    "    try:\n",
    "        # mở image từ filename\n",
    "        img=Image.open(filename)\n",
    "        # chuyển image thành np array\n",
    "        img =  np.array(img)\n",
    "        return img\n",
    "    except:\n",
    "        print(\"Cannot open file. Please check again :()\")\n",
    "        exit(0)"
   ]
  },
  {
   "cell_type": "markdown",
   "metadata": {},
   "source": [
    "### 1. Thay đổi độ sáng <a class=\"anchor\" id=\"c14\"></a>"
   ]
  },
  {
   "cell_type": "code",
   "execution_count": 51,
   "metadata": {},
   "outputs": [],
   "source": [
    "def change_brightness(img,brightness):\n",
    "    # cộng từng phần tử trong kênh màu với giá trị brightness\n",
    "    return np.clip(img+np.array([brightness]),0,255).astype(np.uint8)"
   ]
  },
  {
   "cell_type": "markdown",
   "metadata": {},
   "source": [
    "### 2. Thay đổi độ tương phản <a class=\"anchor\" id=\"c14\"></a>"
   ]
  },
  {
   "cell_type": "code",
   "execution_count": 52,
   "metadata": {},
   "outputs": [],
   "source": [
    "def change_contrast(img,contrast):\n",
    "    # công thức tính factor contrast\n",
    "    factor = (259*(contrast+255))/(255*(259-contrast))\n",
    "    result = np.clip(factor * (img.astype(float) - 128) + 128, 0, 255)\n",
    "    return result.astype(np.uint8)"
   ]
  },
  {
   "cell_type": "markdown",
   "metadata": {},
   "source": [
    "### 3. Lật ảnh <a class=\"anchor\" id=\"c14\"></a>"
   ]
  },
  {
   "cell_type": "code",
   "execution_count": 53,
   "metadata": {},
   "outputs": [],
   "source": [
    "def flip_image(img,type):\n",
    "    # type 1: lật dọc\n",
    "    if type==1:\n",
    "        return np.flipud(img)\n",
    "    # type 2: lật ngang\n",
    "    elif type==2:\n",
    "        return np.fliplr(img)"
   ]
  },
  {
   "cell_type": "markdown",
   "metadata": {},
   "source": [
    "### 4. Chuyển đổi RGB sang Grayscale / Sepia <a class=\"anchor\" id=\"c14\"></a>"
   ]
  },
  {
   "cell_type": "code",
   "execution_count": 54,
   "metadata": {},
   "outputs": [],
   "source": [
    "def rgb_to_grayscale(img):\n",
    "    # khởi tạo mảng result để lưu trữ ảnh sau khi chuyển đổi\n",
    "    result = np.empty(img.shape)\n",
    "    # chạy vòng lặp qua số lượng kênh màu\n",
    "    for i in range(3):\n",
    "         # nhân từng giá trị r,g,b trong kênh màu rgb của từng pixel với các tham số\n",
    "            result[:,:,i] = 0.2989*img[:,:,0]+0.5870*img[:,:,1]+0.1140*img[:,:,2]\n",
    "    return np.clip(result,0,255).astype(np.uint8)\n",
    "\n",
    "def rgb_to_sepia(img):\n",
    "    # khởi tạo mảng result để lưu trữ ảnh sau khi chuyển đổi\n",
    "    result = np.empty(img.shape)\n",
    "\n",
    "    result[:, :, 0] = 0.393 * img[:, :, 0] + 0.769 * img[:, :, 1] + 0.189 * img[:, :, 2]\n",
    "    result[:, :, 1] = 0.349 * img[:, :, 0] + 0.686 * img[:, :, 1] + 0.168 * img[:, :, 2]\n",
    "    result[:, :, 2] = 0.272 * img[:, :, 0] + 0.534 * img[:, :, 1] + 0.131 * img[:, :, 2]\n",
    "    return np.clip(result,0,255).astype(np.uint8)"
   ]
  },
  {
   "cell_type": "markdown",
   "metadata": {},
   "source": [
    "### 5. Làm mờ / sắc nét  <a class=\"anchor\" id=\"c14\"></a>"
   ]
  },
  {
   "cell_type": "markdown",
   "metadata": {},
   "source": [
    "### a. Làm mờ <a class=\"anchor\" id=\"c14\"></a>"
   ]
  },
  {
   "cell_type": "code",
   "execution_count": 55,
   "metadata": {},
   "outputs": [],
   "source": [
    "def create_summed_area_table(img):\n",
    "    height, width, _ = img.shape\n",
    "    # khởi tạo summed-area-table\n",
    "    sat = np.zeros_like(img)\n",
    "    # gán giá trị phần tử [0,0] của sat\n",
    "    sat[0, 0] = img[0, 0]\n",
    "    \n",
    "    for x in range(1,height):\n",
    "        for y in range(1,width):\n",
    "                # giá trị phía trên\n",
    "                top = sat[x-1, y]\n",
    "                # giá trị bên trái\n",
    "                left = sat[x, y-1]\n",
    "                # giá trị ở góc chéo trái trên\n",
    "                diagonal = sat[x-1, y-1]\n",
    "                # giá trị của phần tử trong sat tại vị trí x,y = láy giá trị bên trái nó + giá trị phía trên nó - giá trị góc chéo trái trên\n",
    "                sat[x, y] = img[x, y]+top+left-diagonal\n",
    "    return sat\n",
    "\n",
    "def box_blur(img, radius):\n",
    "    # đổi type của data array\n",
    "    img_ = img.astype(np.uint16)\n",
    "    \n",
    "    height,width,_ = img_.shape\n",
    "    # mảng result chứa giá trị ảnh sau khi làm mờ copy từ mảng ảnh gốc\n",
    "    result = img_.copy()\n",
    "    # diện tích của kernel\n",
    "    area = (2*radius + 1)**2\n",
    "    # summed-area table\n",
    "    sat = create_summed_area_table(img_)\n",
    "    # mảng chứa giá trị tổng các pixels\n",
    "    sum_pixels = np.zeros(3)\n",
    "    \n",
    "    for x in range(radius+1, height-radius-1):\n",
    "        for y in range(radius+1, width-radius-1):\n",
    "            sum_pixels = np.add(np.subtract(np.subtract(\n",
    "                sat[x+radius, y+radius], sat[x+radius, y-radius-1]), sat[x-radius-1, y+radius]), sat[x-radius-1, y-radius-1])\n",
    "            result[x,y] = np.clip((sum_pixels/area),0,255)\n",
    "\n",
    "    return result.astype(np.uint8)"
   ]
  },
  {
   "cell_type": "markdown",
   "metadata": {},
   "source": [
    "### b. Làm sắc nét <a class=\"anchor\" id=\"c14\"></a>"
   ]
  },
  {
   "cell_type": "code",
   "execution_count": 56,
   "metadata": {},
   "outputs": [],
   "source": [
    "def convolution(img, kernel):\n",
    "    # Sử dụng hàm np.pad để padding ảnh với zeros\n",
    "    padding_height = kernel.shape[0] // 2\n",
    "    padding_width = kernel.shape[1] // 2\n",
    "    padded_img = np.pad(img, ((padding_height, padding_height), (padding_width, padding_width), (0, 0)), mode='constant')\n",
    "\n",
    "    # Sử dụng hàm np.roll để thực hiện convolution\n",
    "    result = np.zeros(img.shape)\n",
    "    for x in range(img.shape[0]):\n",
    "        for y in range(img.shape[1]):\n",
    "            for c in range(3):\n",
    "                value = np.sum(padded_img[x:x+kernel.shape[0], y:y+kernel.shape[1], c] * kernel)\n",
    "                result[x, y, c] = value\n",
    "\n",
    "    return np.clip(result, 0, 255).astype(np.uint8)\n",
    "\n",
    "def sharpen_image(img):\n",
    "    # sử dụng laplacian filter\n",
    "    laplacian_filter =np.array([[0, -1, 0],\n",
    "                    [-1, 5, -1],\n",
    "                    [0, -1, 0]])\n",
    "    # chập img với kernel\n",
    "    return convolution(img, laplacian_filter)"
   ]
  },
  {
   "cell_type": "markdown",
   "metadata": {},
   "source": [
    "### 6. Cắt ảnh theo kích thước (cắt ở trung tâm) <a class=\"anchor\" id=\"c14\"></a>"
   ]
  },
  {
   "cell_type": "code",
   "execution_count": 57,
   "metadata": {},
   "outputs": [],
   "source": [
    "def crop_center(img,crop_height,crop_width):\n",
    "    height,width,_= img.shape\n",
    "    \n",
    "    left = (width - crop_width) // 2\n",
    "    upper = (height - crop_height) // 2\n",
    "    right = left + crop_width\n",
    "    lower = upper + crop_height\n",
    "    \n",
    "    return img[upper:lower,left:right].astype(np.uint8)"
   ]
  },
  {
   "cell_type": "markdown",
   "metadata": {},
   "source": [
    "### 7. Cắt ảnh theo khung hình tròn <a class=\"anchor\" id=\"c14\"></a>"
   ]
  },
  {
   "cell_type": "code",
   "execution_count": 58,
   "metadata": {},
   "outputs": [],
   "source": [
    "def crop_circle_frame(img,radius):\n",
    "    height, width = img.shape[:2]\n",
    "    center = (width // 2, height // 2)\n",
    "\n",
    "    # Tạo một mảng x, y chứa tọa độ các pixel trong ảnh\n",
    "    y, x = np.ogrid[:height, :width]\n",
    "\n",
    "    # Tính khoảng cách từ mỗi pixel tới tâm của hình tròn\n",
    "    dist_from_center = np.sqrt((x - center[0]) ** 2 + (y - center[1]) ** 2)\n",
    "\n",
    "    # Tạo mask để chọn các pixel nằm trong hình tròn \n",
    "    mask = dist_from_center <= radius\n",
    "\n",
    "    # Chỉ giữ lại các pixel nằm trong hình tròn\n",
    "    result = np.copy(img)\n",
    "    result[~mask] = 0\n",
    "    \n",
    "    return result.astype(np.uint8)\n"
   ]
  },
  {
   "cell_type": "markdown",
   "metadata": {},
   "source": [
    "### 8. Cắt theo khung 2 hình ellip chéo <a class=\"anchor\" id=\"c14\"></a>"
   ]
  },
  {
   "cell_type": "markdown",
   "metadata": {},
   "source": [
    "### a. Tạo mask là elip chép <a class=\"anchor\" id=\"c14\"></a>"
   ]
  },
  {
   "cell_type": "code",
   "execution_count": 59,
   "metadata": {},
   "outputs": [],
   "source": [
    "def create_rotated_elip_mask(img,rotation_angle,major_axis,minor_axis):\n",
    "    height,width,_=img.shape\n",
    "    \n",
    "    # Tạo một mảng x, y chứa tọa độ các pixel trong ảnh\n",
    "    y, x = np.ogrid[:height, :width]\n",
    "    \n",
    "    # Tâm của ảnh\n",
    "    center_x, center_y = width // 2, height // 2\n",
    "    \n",
    "    # Điều chỉnh tọa độ để căn giữa mask tại tâm elip\n",
    "    x -= center_x\n",
    "    y -= center_y\n",
    "    \n",
    "    # Áp dụng phép quay cho các tọa độ của elip\n",
    "    rotation_angle = np.deg2rad(rotation_angle) # chuyển về radian\n",
    "    x_rotated = x * np.cos(rotation_angle) - y * np.sin(rotation_angle)\n",
    "    y_rotated = x * np.sin(rotation_angle) + y * np.cos(rotation_angle)\n",
    "    \n",
    "    # Tạo mask cho elip chéo\n",
    "    mask = (x_rotated / major_axis) ** 2 + (y_rotated / minor_axis) ** 2 <= 1\n",
    "    \n",
    "    return mask.astype(np.uint8)"
   ]
  },
  {
   "cell_type": "markdown",
   "metadata": {},
   "source": [
    "### b. Cắt <a class=\"anchor\" id=\"c14\"></a>"
   ]
  },
  {
   "cell_type": "code",
   "execution_count": 60,
   "metadata": {},
   "outputs": [],
   "source": [
    "def crop_2elips_frame(img,major_axis,minor_axis):\n",
    "    height, width, _ = img.shape\n",
    "    # tạo 1 mảng mới chứa dữ liệu ảnh\n",
    "    result = img.copy()\n",
    "    # Tạo mask\n",
    "    elip1 = create_rotated_elip_mask(img,45, major_axis, minor_axis)\n",
    "    elip2 = create_rotated_elip_mask(img,135, major_axis, minor_axis)\n",
    "    # kết hợp 2 mask elip\n",
    "    mask = elip1 | elip2\n",
    "\n",
    "    for i in range(height):\n",
    "        for j in range(width):\n",
    "            if mask[i, j] == 0:\n",
    "                result[i, j] = 0\n",
    "\n",
    "    return result.astype(np.uint8)"
   ]
  },
  {
   "cell_type": "markdown",
   "metadata": {},
   "source": [
    "### Lưu ảnh <a class=\"anchor\" id=\"c14\"></a>"
   ]
  },
  {
   "cell_type": "code",
   "execution_count": 61,
   "metadata": {},
   "outputs": [],
   "source": [
    "def output_file(img, filename, ext):\n",
    "    try:\n",
    "        # chuyển image thành đối tượng hình ảnh PIL\n",
    "        img = Image.fromarray(img.astype(np.uint8))\n",
    "        img.save(filename+'.'+ext)\n",
    "    except:\n",
    "        print(\"Cannot save this file\")\n",
    "        return"
   ]
  },
  {
   "cell_type": "markdown",
   "metadata": {},
   "source": [
    "### Hàm thực thi các chức năng <a class=\"anchor\" id=\"c14\"></a>"
   ]
  },
  {
   "cell_type": "code",
   "execution_count": 62,
   "metadata": {},
   "outputs": [],
   "source": [
    "def running_function(option,input_file,output_file_ext):\n",
    "    img = get_image(input_file)\n",
    "    \n",
    "    # Tìm vị trí của dấu chấm cuối cùng trong tên tập tin\n",
    "    last_dot_index = input_file.rfind('.')\n",
    "    # Lấy tên tập tin (không bao gồm phần mở rộng)\n",
    "    input_filename = input_file[:last_dot_index]\n",
    "    \n",
    "    # khởi tạo mảng ảnh mới\n",
    "    new_img = np.empty(img.shape)\n",
    "    \n",
    "    if option == 1:\n",
    "        br = float(input(\"Enter the brightness change: \"))\n",
    "        new_img = change_brightness(img, br)\n",
    "        output_file(new_img,input_filename+'_brightness',output_file_ext)\n",
    "    elif option == 2:\n",
    "        contrast_factor = float(input(\"Enter the contrast: \"))\n",
    "        new_img = change_contrast(img, contrast_factor)\n",
    "        output_file(new_img,input_filename+'_contrast',output_file_ext)\n",
    "    elif option == 3:\n",
    "        type = int(\n",
    "            input(\"1.Flip horizontally 2.Flip vertically Please enter your choice:\"))\n",
    "        new_img = flip_image(img, type)\n",
    "        output_file(new_img,input_filename+'_flip',output_file_ext)\n",
    "    elif option == 4:\n",
    "        sub_op = int(\n",
    "            input(\"1.Turn into grayscale 2.Turn into sepia  Please enter your choice:\"))\n",
    "        if sub_op == 1:\n",
    "            new_img = rgb_to_grayscale(img)\n",
    "            output_file(new_img,input_filename+'_grayscale',output_file_ext)\n",
    "        elif sub_op == 2:\n",
    "            new_img = rgb_to_sepia(img)\n",
    "            output_file(new_img,input_filename+'_sepia',output_file_ext)\n",
    "        else:\n",
    "            print(\"Invalid value.\")\n",
    "    elif option == 5:\n",
    "        type = int(input(\"Enter your choice: 1.Blurring 2.Sharpening\"))\n",
    "        if type==1:\n",
    "            r = int(input(\"Enter the kernel radius: \"))\n",
    "            new_img = box_blur(img,r)\n",
    "            output_file(new_img,input_filename+'_blur',output_file_ext)\n",
    "        elif type ==2:\n",
    "            new_img = sharpen_image(img)\n",
    "            output_file(new_img,input_filename+'_sharpen',output_file_ext)\n",
    "    elif option == 6:\n",
    "        crop_height = int(input(\"Enter the height of crop image: \"))\n",
    "        crop_width = int(input(\"Enter the width of crop image: \"))\n",
    "        new_img = crop_center(img, crop_height, crop_width)\n",
    "        output_file(new_img,input_filename+'_crop_center',output_file_ext)\n",
    "    elif option == 7:\n",
    "        radius = int(input(\"Enter the radius: \"))\n",
    "        new_img = crop_circle_frame(img, radius)\n",
    "        output_file(new_img,input_filename+'_crop_circle',output_file_ext)\n",
    "    elif option == 8:\n",
    "        major = int(input(\"Enter the value of major axis: \"))\n",
    "        minor = int(input(\"Enter the value of minor axis: \"))\n",
    "        new_img = crop_2elips_frame(img,major,minor)\n",
    "        output_file(new_img,input_filename+'_crop_2_elip',output_file_ext)\n",
    "    \n",
    "    return new_img.astype(np.uint8)"
   ]
  },
  {
   "cell_type": "markdown",
   "metadata": {},
   "source": [
    "### MAIN <a class=\"anchor\" id=\"c14\"></a>"
   ]
  },
  {
   "cell_type": "code",
   "execution_count": 63,
   "metadata": {},
   "outputs": [],
   "source": [
    "input_file = input(\"Enter input file: \")\n",
    "img=get_image(input_file)\n",
    "\n",
    "# Nhập ext của output file\n",
    "ext = input(\"Enter the output file extension(png/jpg/pdf): \")\n",
    "\n",
    "# Nhập option của các chức năng\n",
    "option = int(input(\"Enter your choice: 0.Doing all 1.Changing the brightness 2.Changing the contrast 3.Flipping image 4.Converting into gray/sepia 5.Blurring\\sharpening 6.Cropping in center 7.Cropping into circle frame 8. Cropping into 2elips frame\"))\n",
    "\n",
    "# get data array của image\n",
    "img = get_image(input_file)\n",
    "\n",
    "# thực thi các chức năng\n",
    "if option == 0:\n",
    "    for i in range(1,9):\n",
    "        new_img = running_function(i,input_file,ext)\n",
    "else:\n",
    "    new_img = running_function(option,input_file,ext)"
   ]
  },
  {
   "cell_type": "markdown",
   "metadata": {},
   "source": [
    "### Show ảnh <a class=\"anchor\" id=\"c14\"></a>"
   ]
  },
  {
   "cell_type": "code",
   "execution_count": 64,
   "metadata": {},
   "outputs": [
    {
     "data": {
      "image/png": "[encoded data removed]",
      "text/plain": [
       "<Figure size 640x480 with 2 Axes>"
      ]
     },
     "metadata": {},
     "output_type": "display_data"
    }
   ],
   "source": [
    "fig, axes = plt.subplots(1, 2)\n",
    "axes[0].imshow(img)\n",
    "axes[0].set_title('Before:');\n",
    "axes[1].imshow(new_img)\n",
    "axes[1].set_title('After:');"
   ]
  }
 ],
 "metadata": {
  "kernelspec": {
   "display_name": "Python 3",
   "language": "python",
   "name": "python3"
  },
  "language_info": {
   "codemirror_mode": {
    "name": "ipython",
    "version": 3
   },
   "file_extension": ".py",
   "mimetype": "text/x-python",
   "name": "python",
   "nbconvert_exporter": "python",
   "pygments_lexer": "ipython3",
   "version": "3.10.11"
  },
  "orig_nbformat": 4
 },
 "nbformat": 4,
 "nbformat_minor": 2
}
